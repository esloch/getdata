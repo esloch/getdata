{
 "cells": [
  {
   "cell_type": "code",
   "execution_count": 1,
   "metadata": {},
   "outputs": [],
   "source": [
    "from sqlalchemy import create_engine\n",
    "\n",
    "import dash\n",
    "# import dash_daq as daq\n",
    "import dash_core_components as dcc\n",
    "import dash_html_components as html\n",
    "from dash.dependencies import Input, Output\n",
    "\n",
    "import plotly.graph_objects as go\n",
    "\n",
    "import pandas as pd"
   ]
  },
  {
   "cell_type": "code",
   "execution_count": 2,
   "metadata": {},
   "outputs": [
    {
     "name": "stdout",
     "output_type": "stream",
     "text": [
      "/media/Data/suplent/work_lab/fiocruz/AlertaDengue\n"
     ]
    }
   ],
   "source": [
    "import os\n",
    "import sys\n",
    "\n",
    "dir_actual = os.getcwd()\n",
    "local = os.path.dirname(os.path.abspath(dir_actual))\n",
    "sys.path.insert(0, local)\n",
    "print(local)"
   ]
  },
  {
   "cell_type": "markdown",
   "metadata": {},
   "source": [
    "#### dbdata"
   ]
  },
  {
   "cell_type": "code",
   "execution_count": 3,
   "metadata": {},
   "outputs": [],
   "source": [
    "engine = create_engine(\n",
    "    \"postgresql://{}:{}@{}:{}/{}\".format(\n",
    "        \"dengueadmin\",\n",
    "        \"aldengue\",\n",
    "        \"172.25.0.2\",\n",
    "        '25432',\n",
    "        \"dengue\",\n",
    "    )\n",
    ")"
   ]
  },
  {
   "cell_type": "code",
   "execution_count": 4,
   "metadata": {},
   "outputs": [],
   "source": [
    "def get_disease_suffix(disease: str):\n",
    "    \"\"\"\n",
    "\n",
    "    :param disease:\n",
    "    :return:\n",
    "    \"\"\"\n",
    "    return (\n",
    "        ''\n",
    "        if disease == 'dengue'\n",
    "        else '_chik'\n",
    "        if disease == 'chikungunya'\n",
    "        else '_zika'\n",
    "        if disease == 'zika'\n",
    "        else ''\n",
    "    )\n",
    "\n",
    "\n",
    "def get_uf_by_disease(uf, disease):\n",
    "    \"\"\"\n",
    "    Returna contagem de cidades participantes por estado\n",
    "\n",
    "    :param uf: uf a ser consultada\n",
    "    :param disease: dengue|chikungunya|zika\n",
    "    :return: dataframe\n",
    "    \"\"\"\n",
    "\n",
    "    table_name = 'Historico_alerta' + get_disease_suffix(disease)\n",
    "    weeks = 52\n",
    "\n",
    "    sql = '''\n",
    "        SELECT DISTINCT alerta.\"SE\",\n",
    "            alerta.\"Rt\", alerta.\"data_iniSE\",\n",
    "            alerta.casos_est, alerta.casos, alerta.nivel, alerta.receptivo,\n",
    "            alerta.municipio_geocodigo,\n",
    "            city.nome, city.uf\n",
    "        FROM \"Municipio\".\"%s\" AS alerta\n",
    "        INNER JOIN \"Dengue_global\".\"Municipio\" AS city ON (\n",
    "                    alerta.municipio_geocodigo=city.geocodigo)        \n",
    "    WHERE uf='%s'\n",
    "    AND alerta.\"data_iniSE\" >= NOW() - interval '%s weeks';\n",
    "    ''' % (\n",
    "        table_name,\n",
    "        uf,\n",
    "        weeks+2\n",
    "    )\n",
    "\n",
    "    with engine.connect() as conn:\n",
    "        return pd.read_sql(sql, conn)"
   ]
  },
  {
   "cell_type": "markdown",
   "metadata": {},
   "source": [
    "#### Update disease by UF"
   ]
  },
  {
   "cell_type": "code",
   "execution_count": null,
   "metadata": {},
   "outputs": [],
   "source": [
    "df.groupby([\"state\", \"gender\"])[\"last_name\"].count()"
   ]
  },
  {
   "cell_type": "code",
   "execution_count": null,
   "metadata": {},
   "outputs": [],
   "source": [
    "def update_figure(selected_uf):\n",
    "    disease = 'dengue' # < pass this in the dropdown\n",
    "    df = get_uf_by_disease(selected_uf, disease)\n",
    "    keys=['casos_est', 'casos']\n",
    "    df_by_uf = df.groupby(['SE'])[keys].sum()\n",
    "\n",
    "    print(df_by_uf)\n",
    "#     \n",
    "    traces = []\n",
    "\n",
    "\n",
    "update_figure('Ceará')"
   ]
  },
  {
   "cell_type": "markdown",
   "metadata": {},
   "source": [
    "##### Create Plotly-Dash-Charts"
   ]
  },
  {
   "cell_type": "code",
   "execution_count": null,
   "metadata": {},
   "outputs": [],
   "source": [
    "app = dash.Dash()\n",
    "\n",
    "# States\n",
    "ufs = ['Ceará', 'Rio de Janeiro', 'Paraná', 'Espírito Santo',\n",
    "       'São Paulo', 'Minas Gerais', 'Rio Grande do Sul', 'Maranhão']\n",
    "\n",
    "year_options = []\n",
    "for uf in ufs:\n",
    "    year_options.append({'label': str(uf), 'value': uf})\n",
    "\n",
    "\n",
    "app.layout = html.Div([\n",
    "\n",
    "    # first row\n",
    "    html.Div(children=[\n",
    "\n",
    "        # first column of first row\n",
    "        html.Div(children=[\n",
    "\n",
    "            dcc.Dropdown(id='state-picker', options=year_options,\n",
    "                        placeholder=\"Select a State name\"), #multi=True\n",
    "\n",
    "        ], style={'display': 'inline-block', 'vertical-align': 'top', 'margin-left': '3vw', 'margin-top': '3vw'}),\n",
    "\n",
    "    ], className='row'),\n",
    "    html.Hr(),\n",
    "    # second row\n",
    "    html.Div(children=[\n",
    "\n",
    "        # first column of second row\n",
    "        html.Div(children=[\n",
    "\n",
    "            html.Div(dcc.Graph(id='graph')),\n",
    "\n",
    "        ], style={'width':'25%', 'display':'inline-block'}),\n",
    "        # style={'display': 'inline-block', 'vertical-align': 'top', 'margin-right': '3vw', 'margin-top': '3vw'}),\n",
    "\n",
    "        # second column of second row\n",
    "        html.Div(children=[\n",
    "\n",
    "            html.Div(dcc.Graph(id='indicator')),\n",
    "\n",
    "        ], style={'width':'15%', 'display':'inline-block', 'vertical-align': 'top', 'margin-right': '3vw', 'margin-top': '7vw'}),\n",
    "        \n",
    "\n",
    "    ], className='row'),\n",
    "    html.Hr(),\n",
    "\n",
    "\n",
    "])\n",
    "\n",
    "# Traces graph\n",
    "@app.callback(Output('graph', 'figure'),\n",
    "              [Input('state-picker', 'value')])\n",
    "def update_figure(selected_uf):\n",
    "    disease = 'dengue' # < pass this in the dropdown\n",
    "    df = get_uf_by_disease(selected_uf, disease)\n",
    "    keys=['casos_est', 'casos']\n",
    "    df_by_uf = df.groupby(['SE'])[keys].sum()\n",
    "\n",
    "    traces = []\n",
    "\n",
    "    traces.append(\n",
    "        go.Bar(\n",
    "            x=df_by_uf.index.map(\n",
    "                lambda v: '%s/%s' % (str(v)[:4], str(v)[-2:])),\n",
    "            y=df_by_uf['casos_est'],\n",
    "            name=\"Estimated Cases\",\n",
    "            text=df_by_uf.index.map(lambda v: '{}'.format(str(v)[-2:])),\n",
    "            hoverinfo='text',\n",
    "            hovertemplate=\"Semana %{text}<br>Incidência=%{y:1f}\",\n",
    "\n",
    "        ))\n",
    "    traces.append(\n",
    "        go.Scatter(\n",
    "            x=df_by_uf.index.map(\n",
    "                lambda v: '%s/%s' % (str(v)[:4], str(v)[-2:])),\n",
    "            y=df_by_uf['casos'],\n",
    "            name=\"Cases\",\n",
    "            text=df_by_uf.index.map(lambda v: '{}'.format(str(v)[-2:])),\n",
    "            hoverinfo='text',\n",
    "            hovertemplate=\"Semana %{text}<br>Incidência=%{y:1f}\",\n",
    "\n",
    "        ))\n",
    "\n",
    "    return {\n",
    "        'data': traces,\n",
    "        'layout': go.Layout(\n",
    "            title='{}'.format(selected_uf),\n",
    "            \n",
    "            xaxis={'title': 'Week'},\n",
    "            yaxis={'title': 'Cases'},\n",
    "            showlegend = False,\n",
    "            hovermode='closest'\n",
    "        )\n",
    "    }\n",
    "\n",
    "\n",
    "# Indicator Graph\n",
    "@app.callback(\n",
    "    Output('indicator', 'figure'),\n",
    "    [Input('state-picker', 'value')])\n",
    "def update_tank(selected_uf):\n",
    "    disease = 'dengue' # < pass this in the dropdown\n",
    "    df = get_uf_by_disease(selected_uf, disease)\n",
    "    traces = []\n",
    "    \n",
    "    # Select by uf\n",
    "    df_uf = df['uf'] == selected_uf\n",
    "    uf_selected = df[df_uf]\n",
    "    \n",
    "    # Count the total cities in uf\n",
    "    cities_uf = len(uf_selected.nome.unique())\n",
    "    print(cities_uf)\n",
    "    \n",
    "    # Filter nivel\n",
    "    nivel_uf = 4\n",
    "    rec_uf = uf_selected['nivel'] == nivel_uf\n",
    "    rec_selected = uf_selected[rec_uf]\n",
    "    \n",
    "    # Filter last week\n",
    "    last_se = rec_selected.SE.max()\n",
    "    ant_se = last_se - 1\n",
    "    df_last_se = rec_selected[rec_selected['SE'] == last_se].nivel.count()    \n",
    "    df_ant_se = rec_selected[rec_selected['SE'] == ant_se].nivel.count()\n",
    "\n",
    "    traces.append(\n",
    "        go.Indicator(\n",
    "            domain = {'x': [0, 1], 'y': [0, 1]},\n",
    "            value = df_last_se,\n",
    "            mode = \"gauge+number+delta\",\n",
    "            title = {'text': \"Receptivity\"},\n",
    "            delta = {'reference': df_ant_se},\n",
    "            gauge = {'axis': {'range': [None, cities_uf]},\n",
    "                     'steps' : [\n",
    "                         {'range': [0, 250], 'color': \"lightgray\"},\n",
    "                         {'range': [250, 400], 'color': \"gray\"}],\n",
    "                     'threshold' : {'line': {'color': \"red\", 'width': 4}, 'thickness': 0.75, 'value': cities_uf}}))\n",
    "\n",
    "\n",
    "#     return df_last_se.nivel.count()\n",
    "    return {\n",
    "        'data': traces,\n",
    "    }\n",
    "\n",
    "\n",
    "if __name__ == '__main__':\n",
    "    app.run_server()"
   ]
  },
  {
   "cell_type": "markdown",
   "metadata": {},
   "source": [
    "#### Create dash indicator update"
   ]
  },
  {
   "cell_type": "code",
   "execution_count": 10,
   "metadata": {},
   "outputs": [
    {
     "name": "stdout",
     "output_type": "stream",
     "text": [
      "184\n",
      "1\n"
     ]
    }
   ],
   "source": [
    "def update_indicator(selected_uf):\n",
    "    disease = 'dengue' # < pass this in the dropdown\n",
    "    df = get_uf_by_disease(selected_uf, disease)\n",
    "    traces = []\n",
    "\n",
    "    # Select by uf\n",
    "    df_uf = df['uf'] == selected_uf\n",
    "    uf_selected = df[df_uf]\n",
    "\n",
    "    # Count the total cities in uf\n",
    "    cities_uf = len(uf_selected.nome.unique())\n",
    "    print(cities_uf)\n",
    "\n",
    "    # Filter nivel\n",
    "    nivel_uf = 4\n",
    "    rec_uf = uf_selected['nivel'] == nivel_uf\n",
    "    rec_selected = uf_selected[rec_uf]\n",
    "\n",
    "    # Filter by_week\n",
    "    this_week = rec_selected.SE.max()\n",
    "    last_week = this_week - 1\n",
    "    df_this_week = rec_selected[rec_selected['SE'] == this_week].nivel.count()    \n",
    "    df_last_week = rec_selected[rec_selected['SE'] == last_week].nivel.count()\n",
    "\n",
    "    print(df_last_week)\n",
    "#     print(df)\n",
    "\n",
    "selected_uf = 'Ceará'\n",
    "update_indicator(selected_uf)"
   ]
  },
  {
   "cell_type": "markdown",
   "metadata": {},
   "source": [
    "#### Create Stack-bar"
   ]
  },
  {
   "cell_type": "code",
   "execution_count": 102,
   "metadata": {},
   "outputs": [],
   "source": [
    "import plotly.offline as pyo\n",
    "import plotly.graph_objs as go\n",
    "import pandas as pd\n",
    "import plotly.express as px\n"
   ]
  },
  {
   "cell_type": "code",
   "execution_count": 229,
   "metadata": {},
   "outputs": [
    {
     "name": "stdout",
     "output_type": "stream",
     "text": [
      "   nivel  nome\n",
      "0      1   392\n",
      "1      2     3\n",
      "2      3     3\n",
      "3      4     1\n"
     ]
    }
   ],
   "source": [
    "def update_stack(selected_uf):\n",
    "    disease = 'dengue' # < pass this in the dropdown\n",
    "    df = get_uf_by_disease(selected_uf, disease)    \n",
    "    \n",
    "    # Select by uf\n",
    "    df_uf = df['uf'] == selected_uf\n",
    "    uf_selected = df[df_uf]\n",
    "    keys=['nome']\n",
    "    df_by_uf = uf_selected.groupby(['SE', 'nivel'])[keys].count()\n",
    "\n",
    "    # Filter by_week\n",
    "    this_week = df_by_uf.index.get_level_values(0).max()\n",
    "    last_week = this_week - 1\n",
    "\n",
    "    # Create df with filter by week\n",
    "#     print(df_by_uf.loc[last_week])\n",
    "#     print(df_by_uf.loc[this_week])\n",
    "\n",
    "#     df_w = df_by_uf.loc[this_week]\n",
    "    \n",
    "    \n",
    "    df_this_week = df_by_uf.loc[this_week].reset_index()\n",
    "    print(df_this_week)\n",
    "    \n",
    "\n",
    "selected_uf = 'Paraná'\n",
    "update_stack(selected_uf) "
   ]
  },
  {
   "cell_type": "code",
   "execution_count": 263,
   "metadata": {},
   "outputs": [],
   "source": []
  },
  {
   "cell_type": "code",
   "execution_count": 268,
   "metadata": {},
   "outputs": [],
   "source": [
    "def update_stack(selected_uf):\n",
    "\n",
    "    df=pd.read_csv('dados_alerta.csv')\n",
    "\n",
    "    # Select by uf\n",
    "    df_uf = df['uf'] == selected_uf\n",
    "    uf_selected = df[df_uf]\n",
    "    keys = ['nome']\n",
    "    df_by_uf = uf_selected.groupby(['SE', 'nivel'])[keys].count()\n",
    "\n",
    "    # Filter by_week\n",
    "    this_week = df_by_uf.index.get_level_values(0).max()\n",
    "    last_week = this_week - 1\n",
    "\n",
    "    # Create df_by_week\n",
    "    df_this_week = df_by_uf.loc[this_week].reset_index()\n",
    "    df_last_week = df_by_uf.loc[this_week].reset_index()\n",
    "\n",
    "    fig = go.Figure()\n",
    "    for nivel in df_this_week.nivel:\n",
    "        \n",
    "        fig.add_trace(go.Bar(\n",
    "           x=df_this_week.nivel == nivel, \n",
    "           y=df_this_week.nome,\n",
    "            name='This week',\n",
    "        ))\n",
    "\n",
    "    fig.update_layout(title_text='Least Used Feature', barmode='stack')\n",
    "\n",
    "    pyo.plot(fig, filename='bar3.html')    \n",
    "\n",
    "\n",
    "\n",
    "selected_uf = 'Paraná'\n",
    "update_stack(selected_uf) "
   ]
  },
  {
   "cell_type": "code",
   "execution_count": 194,
   "metadata": {},
   "outputs": [
    {
     "ename": "NameError",
     "evalue": "name 'df_last_se' is not defined",
     "output_type": "error",
     "traceback": [
      "\u001b[0;31m---------------------------------------------------------------------------\u001b[0m",
      "\u001b[0;31mNameError\u001b[0m                                 Traceback (most recent call last)",
      "\u001b[0;32m<ipython-input-194-f4dc75a253ff>\u001b[0m in \u001b[0;36m<module>\u001b[0;34m\u001b[0m\n\u001b[1;32m     16\u001b[0m ]\n\u001b[1;32m     17\u001b[0m \u001b[0;34m\u001b[0m\u001b[0m\n\u001b[0;32m---> 18\u001b[0;31m \u001b[0mniveles\u001b[0m \u001b[0;34m=\u001b[0m \u001b[0mdf_last_se\u001b[0m\u001b[0;34m.\u001b[0m\u001b[0mnivel\u001b[0m\u001b[0;34m.\u001b[0m\u001b[0munique\u001b[0m\u001b[0;34m(\u001b[0m\u001b[0;34m)\u001b[0m\u001b[0;34m\u001b[0m\u001b[0;34m\u001b[0m\u001b[0m\n\u001b[0m\u001b[1;32m     19\u001b[0m \u001b[0;32mfor\u001b[0m \u001b[0mnivel\u001b[0m\u001b[0;34m,\u001b[0m \u001b[0mc\u001b[0m\u001b[0;34m,\u001b[0m \u001b[0mks\u001b[0m \u001b[0;32min\u001b[0m \u001b[0mzip\u001b[0m\u001b[0;34m(\u001b[0m\u001b[0mniveles\u001b[0m\u001b[0;34m,\u001b[0m \u001b[0mcolors\u001b[0m\u001b[0;34m,\u001b[0m \u001b[0mks_alert\u001b[0m \u001b[0;34m)\u001b[0m\u001b[0;34m:\u001b[0m\u001b[0;34m\u001b[0m\u001b[0;34m\u001b[0m\u001b[0m\n\u001b[1;32m     20\u001b[0m             fig.add_trace(\n",
      "\u001b[0;31mNameError\u001b[0m: name 'df_last_se' is not defined"
     ]
    }
   ],
   "source": [
    "import plotly.offline as pyo\n",
    "\n",
    "fig = go.Figure()\n",
    "\n",
    "ks_alert = [\n",
    "    'alerta verde',\n",
    "    'alerta amarelo',\n",
    "    'alerta laranja',\n",
    "    'alerta vermelho',\n",
    "]\n",
    "colors = [\n",
    "    'rgb(0,255,0)',\n",
    "    'rgb(255,255,0)',\n",
    "    'rgb(255,150,0)',\n",
    "    'rgb(255,0,0)',\n",
    "]\n",
    "    \n",
    "niveles = df_last_se.nivel.unique()\n",
    "for nivel, c, ks in zip(niveles, colors, ks_alert ):\n",
    "            fig.add_trace(\n",
    "                    go.Bar(\n",
    "                        x=uf_selected.SE,  # NOC stands for National Olympic Committee\n",
    "                        y=uf_selected.nome,\n",
    "                        name = ks,\n",
    "                        marker={'color': c},\n",
    "    ))\n",
    "\n",
    "            fig.update_layout(title_text='Least Used Feature', barmode='stack')\n",
    "\n",
    "pyo.plot(fig, filename='bar3.html')"
   ]
  },
  {
   "cell_type": "code",
   "execution_count": 233,
   "metadata": {},
   "outputs": [
    {
     "ename": "SyntaxError",
     "evalue": "invalid syntax (<ipython-input-233-440cf4bf5529>, line 1)",
     "output_type": "error",
     "traceback": [
      "\u001b[0;36m  File \u001b[0;32m\"<ipython-input-233-440cf4bf5529>\"\u001b[0;36m, line \u001b[0;32m1\u001b[0m\n\u001b[0;31m    nivel  nome\u001b[0m\n\u001b[0m              ^\u001b[0m\n\u001b[0;31mSyntaxError\u001b[0m\u001b[0;31m:\u001b[0m invalid syntax\n"
     ]
    }
   ],
   "source": [
    "   nivel  nome\n",
    "0      1   392\n",
    "1      2     3\n",
    "2      3     3\n",
    "3      4     1"
   ]
  },
  {
   "cell_type": "code",
   "execution_count": null,
   "metadata": {},
   "outputs": [],
   "source": []
  }
 ],
 "metadata": {
  "kernelspec": {
   "display_name": "Python 3",
   "language": "python",
   "name": "python3"
  },
  "language_info": {
   "codemirror_mode": {
    "name": "ipython",
    "version": 3
   },
   "file_extension": ".py",
   "mimetype": "text/x-python",
   "name": "python",
   "nbconvert_exporter": "python",
   "pygments_lexer": "ipython3",
   "version": "3.7.8"
  }
 },
 "nbformat": 4,
 "nbformat_minor": 4
}
