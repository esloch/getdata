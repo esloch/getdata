{
 "cells": [
  {
   "cell_type": "code",
   "execution_count": 5,
   "metadata": {},
   "outputs": [],
   "source": [
    "import plotly.offline as pyo\n",
    "import plotly.graph_objs as go\n",
    "import pandas as pd\n",
    "\n",
    "\n",
    "df = pd.read_csv('dados_alerta.csv')\n",
    "\n",
    "def update_stack(selected_uf): \n",
    "\n",
    "    # Select by uf\n",
    "    df_uf = df['uf'] == selected_uf\n",
    "    uf_selected = df[df_uf]\n",
    "    keys = ['nome']\n",
    "    df_by_uf = uf_selected.groupby(['SE', 'nivel'])[keys].count()\n",
    "\n",
    "    # Filter by_week\n",
    "    this_week = df_by_uf.index.get_level_values(0).max()\n",
    "    last_week = this_week - 1\n",
    "\n",
    "    # Create df_by_week\n",
    "    df_this_week = df_by_uf.loc[this_week].reset_index()\n",
    "    df_last_week = df_by_uf.loc[this_week].reset_index()\n",
    "\n",
    "    fig = go.Figure()\n",
    "    for nivel in df_this_week.nivel:\n",
    "        \n",
    "        fig.add_trace(go.Bar(\n",
    "           x=df_this_week.nivel == nivel, \n",
    "           y=df_this_week.nome,\n",
    "            name='This week',\n",
    "        ))\n",
    "\n",
    "    fig.update_layout(title_text='Least Used Feature', barmode='stack')\n",
    "\n",
    "    pyo.plot(fig, filename='bar3.html')    \n",
    "\n",
    "\n",
    "\n",
    "selected_uf = 'Paraná'\n",
    "update_stack(selected_uf) "
   ]
  },
  {
   "cell_type": "code",
   "execution_count": null,
   "metadata": {},
   "outputs": [],
   "source": []
  }
 ],
 "metadata": {
  "kernelspec": {
   "display_name": "Python 3",
   "language": "python",
   "name": "python3"
  },
  "language_info": {
   "codemirror_mode": {
    "name": "ipython",
    "version": 3
   },
   "file_extension": ".py",
   "mimetype": "text/x-python",
   "name": "python",
   "nbconvert_exporter": "python",
   "pygments_lexer": "ipython3",
   "version": "3.7.8"
  }
 },
 "nbformat": 4,
 "nbformat_minor": 4
}
